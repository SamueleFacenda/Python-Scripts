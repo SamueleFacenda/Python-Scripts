{
 "cells": [
  {
   "cell_type": "code",
   "execution_count": 1,
   "metadata": {},
   "outputs": [],
   "source": [
    "import pandas as pd\n",
    "from tqdm.auto import tqdm, trange"
   ]
  },
  {
   "cell_type": "code",
   "execution_count": 53,
   "metadata": {},
   "outputs": [
    {
     "data": {
      "text/plain": "166404"
     },
     "execution_count": 53,
     "metadata": {},
     "output_type": "execute_result"
    }
   ],
   "source": [
    "# read file C:/Users/samue/Downloads/input.bin\n",
    "data = b''\n",
    "with open('C:/Users/samue/Downloads/input.bin', 'rb') as f:\n",
    "    data = f.read()\n",
    "len(data)"
   ]
  },
  {
   "cell_type": "code",
   "execution_count": 49,
   "metadata": {},
   "outputs": [
    {
     "data": {
      "text/plain": "  0%|          | 0/166404 [00:00<?, ?it/s]",
      "application/vnd.jupyter.widget-view+json": {
       "version_major": 2,
       "version_minor": 0,
       "model_id": "5e48e91559734ddda284733a666ff520"
      }
     },
     "metadata": {},
     "output_type": "display_data"
    },
    {
     "data": {
      "text/plain": "{0: 277,\n 19: 1,\n 7: 5283,\n 15: 2565,\n 23: 1287,\n 31: 683,\n 39: 306,\n 47: 151,\n 55: 77,\n 71: 15,\n 63: 42,\n 16: 4,\n 79: 13,\n 8: 7,\n 22: 1,\n 87: 4,\n 14: 5,\n 119: 1,\n 95: 2,\n 24: 5,\n 103: 3,\n 6: 6,\n 40: 1,\n 30: 1}"
     },
     "execution_count": 49,
     "metadata": {},
     "output_type": "execute_result"
    }
   ],
   "source": [
    "dists = {}\n",
    "ordered = []\n",
    "current = 0\n",
    "for b in tqdm(data):\n",
    "    if b:\n",
    "        if current in dists:\n",
    "            dists[current] += 1\n",
    "        else:\n",
    "            dists[current] = 1\n",
    "        ordered.append(current)\n",
    "        current = 0\n",
    "    else:\n",
    "        current += 1\n",
    "dists"
   ]
  },
  {
   "cell_type": "code",
   "execution_count": 4,
   "outputs": [
    {
     "data": {
      "text/plain": "0     0\n1    19\n2     7\n3     7\n4    15\ndtype: int64"
     },
     "execution_count": 4,
     "metadata": {},
     "output_type": "execute_result"
    }
   ],
   "source": [
    "df = pd.DataFrame.from_dict(dists, orient='index', columns=['count'])\n",
    "ordered = pd.Series(ordered)\n",
    "data = pd.Series(data)\n",
    "ordered.head()"
   ],
   "metadata": {
    "collapsed": false
   }
  },
  {
   "cell_type": "code",
   "execution_count": 5,
   "outputs": [
    {
     "data": {
      "text/plain": "count    10740.000000\nmean        14.493203\nstd         11.318566\nmin          0.000000\n25%          7.000000\n50%          7.000000\n75%         15.000000\nmax        119.000000\ndtype: float64"
     },
     "execution_count": 5,
     "metadata": {},
     "output_type": "execute_result"
    }
   ],
   "source": [
    "ordered.describe()"
   ],
   "metadata": {
    "collapsed": false
   }
  },
  {
   "cell_type": "markdown",
   "source": [
    "probabilmente se guardo solo gruppi da 8 byte posso vedere qualcosa\n"
   ],
   "metadata": {
    "collapsed": false
   }
  },
  {
   "cell_type": "code",
   "execution_count": 11,
   "outputs": [
    {
     "data": {
      "text/plain": "0         0\n1         0\n2         0\n3         0\n4         0\n         ..\n166395    0\n166396    0\n166397    0\n166398    0\n166399    0\nLength: 166400, dtype: int64"
     },
     "execution_count": 11,
     "metadata": {},
     "output_type": "execute_result"
    }
   ],
   "source": [
    "s = pd.Series([int(x) for x in data[4:]])\n",
    "s"
   ],
   "metadata": {
    "collapsed": false
   }
  },
  {
   "cell_type": "code",
   "execution_count": 34,
   "outputs": [
    {
     "data": {
      "text/plain": "  0%|          | 0/20800 [00:00<?, ?it/s]",
      "application/vnd.jupyter.widget-view+json": {
       "version_major": 2,
       "version_minor": 0,
       "model_id": "68c9e78892034a059db4196b99ca8592"
      }
     },
     "metadata": {},
     "output_type": "display_data"
    },
    {
     "data": {
      "text/plain": "0          0\n1          0\n2          1\n3          1\n4          1\n        ... \n20795      0\n20796      1\n20797      1\n20798      1\n20799    170\nLength: 20800, dtype: int64"
     },
     "execution_count": 34,
     "metadata": {},
     "output_type": "execute_result"
    }
   ],
   "source": [
    "# s is a bit serie\n",
    "# I want to have bytes\n",
    "byte_l = []\n",
    "for i in trange(0, len(s), 8):\n",
    "    byte = 0\n",
    "    for j in range(8):\n",
    "        byte += s[i+j] * 2 ** j\n",
    "    byte_l.append(byte)\n",
    "byte = pd.Series(byte_l)\n",
    "byte"
   ],
   "metadata": {
    "collapsed": false
   }
  },
  {
   "cell_type": "code",
   "execution_count": 35,
   "outputs": [
    {
     "data": {
      "text/plain": "0          0\n1          0\n2          1\n3          1\n4          1\n        ... \n20795      0\n20796      1\n20797      1\n20798      1\n20799    170\nLength: 20765, dtype: int64"
     },
     "execution_count": 35,
     "metadata": {},
     "output_type": "execute_result"
    }
   ],
   "source": [
    "byte = byte[byte <= 255]\n",
    "byte"
   ],
   "metadata": {
    "collapsed": false
   }
  },
  {
   "cell_type": "code",
   "execution_count": 40,
   "outputs": [
    {
     "data": {
      "text/plain": "  0%|          | 0/2595 [00:00<?, ?it/s]",
      "application/vnd.jupyter.widget-view+json": {
       "version_major": 2,
       "version_minor": 0,
       "model_id": "73262cb160a6463d83a1a3453b61f071"
      }
     },
     "metadata": {},
     "output_type": "display_data"
    },
    {
     "data": {
      "text/plain": "0       220\n1       215\n2       204\n3        69\n4        78\n       ... \n2590    202\n2591     21\n2592    107\n2593    192\n2594     41\nLength: 2595, dtype: int64"
     },
     "execution_count": 40,
     "metadata": {},
     "output_type": "execute_result"
    }
   ],
   "source": [
    "#samue think again\n",
    "wrap = []\n",
    "for i in trange(0, int(len(byte)/8)*8, 8):\n",
    "    tmp = 0\n",
    "    for j in range(8):\n",
    "        tmp+= byte.iloc[i+j] * 2 ** j\n",
    "    wrap.append(tmp)\n",
    "wrap = pd.Series(wrap)\n",
    "wrap"
   ],
   "metadata": {
    "collapsed": false
   }
  },
  {
   "cell_type": "code",
   "execution_count": 45,
   "outputs": [],
   "source": [
    "wrap = wrap[wrap <= 255]"
   ],
   "metadata": {
    "collapsed": false
   }
  },
  {
   "cell_type": "code",
   "execution_count": 46,
   "outputs": [],
   "source": [
    "# write to file C:/Users/samue/Downloads/output.bin\n",
    "b = bytearray([x for x in wrap.to_numpy()])\n",
    "b = bytes(b)\n",
    "with open('C:/Users/samue/Downloads/output.bin', 'wb') as f:\n",
    "    f.write(b)"
   ],
   "metadata": {
    "collapsed": false
   }
  },
  {
   "cell_type": "code",
   "execution_count": 54,
   "outputs": [],
   "source": [
    "data = pd.Series([int(x) for x in data])"
   ],
   "metadata": {
    "collapsed": false
   }
  },
  {
   "cell_type": "code",
   "execution_count": 57,
   "outputs": [],
   "source": [
    "cos = data[data != 0][data != 255][data != 1]"
   ],
   "metadata": {
    "collapsed": false
   }
  },
  {
   "cell_type": "code",
   "execution_count": 58,
   "outputs": [
    {
     "data": {
      "text/plain": "0          18\n2596      205\n5196       64\n7796        5\n10396     245\n         ... \n158597      3\n161196    242\n163796     84\n163797      3\n166396    170\nLength: 95, dtype: int64"
     },
     "execution_count": 58,
     "metadata": {},
     "output_type": "execute_result"
    }
   ],
   "source": [
    "cos"
   ],
   "metadata": {
    "collapsed": false
   }
  },
  {
   "cell_type": "code",
   "execution_count": null,
   "outputs": [],
   "source": [],
   "metadata": {
    "collapsed": false
   }
  }
 ],
 "metadata": {
  "kernelspec": {
   "display_name": "Python 3",
   "language": "python",
   "name": "python3"
  },
  "language_info": {
   "codemirror_mode": {
    "name": "ipython",
    "version": 3
   },
   "file_extension": ".py",
   "mimetype": "text/x-python",
   "name": "python",
   "nbconvert_exporter": "python",
   "pygments_lexer": "ipython3",
   "version": "3.11.0 (main, Oct 24 2022, 18:26:48) [MSC v.1933 64 bit (AMD64)]"
  },
  "orig_nbformat": 4,
  "vscode": {
   "interpreter": {
    "hash": "c261aea317cc0286b3b3261fbba9abdec21eaa57589985bb7a274bf54d6cc0a7"
   }
  }
 },
 "nbformat": 4,
 "nbformat_minor": 2
}
